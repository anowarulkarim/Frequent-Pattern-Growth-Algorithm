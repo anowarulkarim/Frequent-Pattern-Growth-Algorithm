{
  "nbformat": 4,
  "nbformat_minor": 0,
  "metadata": {
    "colab": {
      "provenance": []
    },
    "kernelspec": {
      "name": "python3",
      "display_name": "Python 3"
    },
    "language_info": {
      "name": "python"
    }
  },
  "cells": [
    {
      "cell_type": "code",
      "execution_count": null,
      "metadata": {
        "colab": {
          "base_uri": "https://localhost:8080/"
        },
        "id": "eq9eDRlX_USL",
        "outputId": "7f491fb8-75a9-4c2e-c833-74907263f1ec"
      },
      "outputs": [
        {
          "output_type": "stream",
          "name": "stdout",
          "text": [
            "Mounted at /content/drive\n"
          ]
        }
      ],
      "source": [
        "from google.colab import drive\n",
        "drive.mount('/content/drive')"
      ]
    },
    {
      "cell_type": "code",
      "source": [
        "C=[[] for i in range(100)]\n",
        "L=[[] for i in range(100)]\n",
        "itemlist=[]\n",
        "path=\"drive/MyDrive/chess.dat.txt\"\n",
        "min_support=int(input())"
      ],
      "metadata": {
        "id": "lCG10BhM_epS",
        "colab": {
          "base_uri": "https://localhost:8080/"
        },
        "outputId": "71263999-3db5-47c4-e0e1-de318a66943f"
      },
      "execution_count": null,
      "outputs": [
        {
          "name": "stdout",
          "output_type": "stream",
          "text": [
            "60\n"
          ]
        }
      ]
    },
    {
      "cell_type": "code",
      "source": [
        "fptr=open(path ,\"r\")\n",
        "import time\n",
        "dic={}\n",
        "n=0\n",
        "start_time = time.time()\n",
        "while True:\n",
        "    line = fptr.readline()\n",
        "    if not line:\n",
        "        break\n",
        "    token=line.split()\n",
        "    token.sort()\n",
        "    m=\"0\"\n",
        "    n+=1\n",
        "    for i in token:\n",
        "        if i!=m:\n",
        "            if i in dic:\n",
        "                dic[i]=dic[i]+1\n",
        "            else:\n",
        "                dic[i]=1\n",
        "            m=i\n",
        "fptr.close()\n",
        "dic1={}\n",
        "dic2={}\n",
        "min_support=(n*min_support)/100\n",
        "for key, value in dic.items():\n",
        "    if value>min_support:\n",
        "        dic1[key]=value\n",
        "token1 = dict(sorted(dic1.items(), key=lambda item: item[1],reverse=True))"
      ],
      "metadata": {
        "id": "K0Jduv0q_hJB"
      },
      "execution_count": null,
      "outputs": []
    },
    {
      "cell_type": "code",
      "source": [
        "def sort_ac_ht(list1):\n",
        "    list2=[]\n",
        "    for key in token1:\n",
        "        if key in list1:\n",
        "            list2.append(key)\n",
        "    return list2"
      ],
      "metadata": {
        "id": "ivLFUsnaWvq7"
      },
      "execution_count": null,
      "outputs": []
    },
    {
      "cell_type": "code",
      "source": [
        "def insert(list2,root1,count):\n",
        "    if list2[0] in root1.child:\n",
        "        root1.child[list2[0]].inc_cn(1)\n",
        "        for i in dic2[list2[0]]:\n",
        "            if i.parent==root1:\n",
        "                i.inc_cn(1)\n",
        "    else:\n",
        "        if list2[0] in dic2:\n",
        "            dic2[list2[0]].append(fp_node(list2[0],root1,1))\n",
        "        else:\n",
        "            dic2[list2[0]]=[fp_node(list2[0],root1,1)]\n",
        "        root1.child[list2[0]]=fp_node(list2[0],root1,1)\n",
        "    if len(list2)>1:\n",
        "        node=root1.child[list2[0]]\n",
        "        list2.pop(0)\n",
        "        insert(list2,node,count)"
      ],
      "metadata": {
        "id": "REpCefPucLAA"
      },
      "execution_count": null,
      "outputs": []
    },
    {
      "cell_type": "code",
      "source": [
        "\n",
        "def show(root):\n",
        "    if root.parent != None:\n",
        "        print(root.name,root.count)\n",
        "    for i in root.child:\n",
        "        show(root.child[i])"
      ],
      "metadata": {
        "id": "gj0nbPn36LUE"
      },
      "execution_count": null,
      "outputs": []
    },
    {
      "cell_type": "code",
      "source": [
        "class fp_node:\n",
        "    def __init__(self, name,parent,count):\n",
        "        self.name = name\n",
        "        self.count = count\n",
        "        self.parent = parent\n",
        "        self.child = {}\n",
        "    def inc_cn(self,n):\n",
        "        self.count += n\n",
        "root = fp_node(None, 0, None)\n",
        "fptr=open(path ,\"r\")\n",
        "while True:\n",
        "    line = fptr.readline()\n",
        "    if not line:\n",
        "        break\n",
        "    token=line.split()\n",
        "    token.sort()\n",
        "    m=\"0\"\n",
        "    list1=[]\n",
        "    for i in token:\n",
        "        if i!=m:\n",
        "            list1.append(i)\n",
        "            m=i\n",
        "    list2=sort_ac_ht(list1)\n",
        "    insert(list2,root,1)\n",
        "fptr.close()"
      ],
      "metadata": {
        "id": "so1UWzV3Tr0A"
      },
      "execution_count": null,
      "outputs": []
    },
    {
      "cell_type": "code",
      "source": [
        "def create_fptree(transactions, min_support,count):\n",
        "    header_table = {}\n",
        "\n",
        "    for transaction in transactions:\n",
        "        for item in transaction:\n",
        "            header_table[item] = header_table.get(item, 0) + 1\n",
        "\n",
        "    header_table = {item: count for item, count in header_table.items() if count >= min_support}\n",
        "\n",
        "    if len(header_table) == 0:\n",
        "        return None, None\n",
        "    for item in header_table:\n",
        "        header_table[item] = [header_table[item], None]\n",
        "\n",
        "    fptree = fp_node(None, 0, None)\n",
        "\n",
        "    for transaction in transactions:\n",
        "        sorted_items = [item for item in transaction if item in header_table]\n",
        "        sorted_items.sort(key=lambda item: header_table[item][0], reverse=True)\n",
        "        if len(sorted_items) > 0:\n",
        "            insert1(sorted_items, fptree, header_table, 1)\n",
        "\n",
        "    return fptree, header_table"
      ],
      "metadata": {
        "id": "RK0yuO4Ek9nu"
      },
      "execution_count": null,
      "outputs": []
    },
    {
      "cell_type": "code",
      "source": [
        "def insert1(list2,root2,count):\n",
        "    if list2[0] in root2.child:\n",
        "        root2.child[list2[0]].inc_cn(count)\n",
        "    else:\n",
        "        root2.child[list2[0]]=fp_node(list2[0],root2,count)\n",
        "    if len(list2)>1:\n",
        "        node=root2.child[list2[0]]\n",
        "        list2.pop(0)\n",
        "        insert1(list2,node,count)"
      ],
      "metadata": {
        "id": "Uqv6Hjxtr8dU"
      },
      "execution_count": null,
      "outputs": []
    },
    {
      "cell_type": "code",
      "source": [
        "def get_prefix_path(node):\n",
        "    prefix_path = []\n",
        "    while node.parent:\n",
        "        node = node.parent\n",
        "        if node.name==None:\n",
        "            return prefix_path\n",
        "        prefix_path.append(node.name)"
      ],
      "metadata": {
        "id": "_5V-EdIBjNyv"
      },
      "execution_count": null,
      "outputs": []
    },
    {
      "cell_type": "code",
      "source": [
        "def make_ht(node_r):\n",
        "    ht={}\n",
        "    stack=[]\n",
        "    dic={}\n",
        "    for i,j in node_r.child.items():\n",
        "        if i in ht:\n",
        "            ht[node_r.child[i].name]=ht[node_r.child[i].name]+node_r.child[i].count\n",
        "        else:\n",
        "            ht[node_r.child[i].name]=node_r.child[i].count\n",
        "        if i in dic:\n",
        "            dic[i].append(node_r.child[i])\n",
        "        else:\n",
        "            dic[i]=[node_r.child[i]]\n",
        "        stack.append(node_r.child[i])\n",
        "    while stack:\n",
        "        s=stack.pop()\n",
        "        for i in s.child:\n",
        "            if s.child[i].name in ht:\n",
        "                ht[s.child[i].name]=ht[s.child[i].name]+s.child[i].count\n",
        "            else:\n",
        "                ht[s.child[i].name]=s.child[i].count\n",
        "            if i in dic:\n",
        "                dic[i].append(s.child[i])\n",
        "            else:\n",
        "                dic[i]=[s.child[i]]\n",
        "            stack.append(s.child[i])\n",
        "    ht2={}\n",
        "    for key,val in ht.items():\n",
        "        if val>=min_support:\n",
        "            ht2[key]=val\n",
        "    return [ht2,dic]"
      ],
      "metadata": {
        "id": "1I2FcYeSaBGK"
      },
      "execution_count": null,
      "outputs": []
    },
    {
      "cell_type": "code",
      "source": [
        "def mine_fp(root1,ht,mem,und):\n",
        "    for i in ht:\n",
        "        if ht[i]>=min_support:\n",
        "            xy=[]\n",
        "            for ii in und:\n",
        "                xy.append(ii)\n",
        "            xy.append(i)\n",
        "            L.append(xy)\n",
        "    x=len(ht)\n",
        "    for i in range(1,x+1):\n",
        "        root_1=fp_node(None,0,None)\n",
        "        for j in mem[list(ht)[-i]]:\n",
        "            ln=get_prefix_path(j)\n",
        "            ln.reverse()\n",
        "            if len(ln)>0:\n",
        "                insert1(ln,root_1,j.count)\n",
        "        aa=make_ht(root_1)\n",
        "        unn1=[]\n",
        "        for ii in und:\n",
        "            unn1.append(ii)\n",
        "        # unn1.append(und)\n",
        "        unn1.append(j.name)\n",
        "        mine_fp(root_1,aa[0],aa[1],unn1)"
      ],
      "metadata": {
        "id": "78fuzRzvA6lV"
      },
      "execution_count": null,
      "outputs": []
    },
    {
      "cell_type": "code",
      "source": [
        "n=len(token1)\n",
        "print(token1)\n",
        "for i in range(1,n+1):\n",
        "    # dic2={}\n",
        "    rootx=fp_node(None,0,None)\n",
        "    for j in dic2[list(token1)[-i]]:\n",
        "        list2=get_prefix_path(j)\n",
        "        list2.reverse()\n",
        "        if len(list2)>0:\n",
        "            insert1(list2,rootx,j.count)\n",
        "    L.append([j.name])\n",
        "    a=make_ht(rootx)\n",
        "    # print(a)\n",
        "    xx=[]\n",
        "    xx.append(j.name)\n",
        "    mine_fp(rootx,a[0],a[1],xx)\n",
        "    # break\n",
        "end_time = time.time()\n",
        "print(end_time-start_time)"
      ],
      "metadata": {
        "colab": {
          "base_uri": "https://localhost:8080/"
        },
        "id": "4Agdo6XMnq_k",
        "outputId": "be931be2-1175-4ec4-f348-18c395c1558d"
      },
      "execution_count": null,
      "outputs": [
        {
          "output_type": "stream",
          "name": "stdout",
          "text": [
            "{'58': 3195, '52': 3185, '29': 3181, '40': 3170, '60': 3149, '36': 3099, '7': 3076, '62': 3060, '34': 3040, '56': 3021, '66': 3021, '48': 3013, '5': 2971, '9': 2874, '25': 2860, '3': 2839, '42': 2714, '64': 2631, '44': 2612, '46': 2556, '31': 2526, '17': 2500, '74': 2407, '72': 2345, '21': 2225, '54': 2216, '27': 2205, '38': 2196, '11': 2129, '15': 2026, '70': 2007, '68': 1984, '19': 1980, '50': 1975}\n",
            "5.910195589065552\n"
          ]
        }
      ]
    },
    {
      "cell_type": "code",
      "source": [
        "for i in L:\n",
        "    C[len(i)-1].append(i)"
      ],
      "metadata": {
        "id": "xHBNaKG5IneM"
      },
      "execution_count": null,
      "outputs": []
    },
    {
      "cell_type": "code",
      "source": [
        "for i in C:\n",
        "    if len(i)!=0:\n",
        "        # print(i)\n",
        "        print(len(i))\n",
        "    else:\n",
        "        break"
      ],
      "metadata": {
        "colab": {
          "base_uri": "https://localhost:8080/"
        },
        "id": "cqxQv8lCK_LL",
        "outputId": "426a02a5-664d-466c-9fe5-f78fbd1b88a1"
      },
      "execution_count": null,
      "outputs": [
        {
          "output_type": "stream",
          "name": "stdout",
          "text": [
            "34\n",
            "389\n",
            "2325\n",
            "8831\n",
            "23155\n",
            "43106\n",
            "57479\n",
            "55062\n",
            "37876\n",
            "18607\n",
            "6419\n",
            "1466\n",
            "187\n",
            "8\n"
          ]
        }
      ]
    },
    {
      "cell_type": "code",
      "source": [
        "min_support"
      ],
      "metadata": {
        "colab": {
          "base_uri": "https://localhost:8080/"
        },
        "id": "XnLPNviPMHE6",
        "outputId": "2f814a28-7ee5-4193-9fd3-063035f33d93"
      },
      "execution_count": null,
      "outputs": [
        {
          "output_type": "execute_result",
          "data": {
            "text/plain": [
              "1917.6"
            ]
          },
          "metadata": {},
          "execution_count": 21
        }
      ]
    }
  ]
}